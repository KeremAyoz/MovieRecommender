{
 "cells": [
  {
   "cell_type": "code",
   "execution_count": 1,
   "metadata": {},
   "outputs": [],
   "source": [
    "import numpy as np\n",
    "import matplotlib.pyplot as plt\n",
    "import csv\n",
    "import os\n",
    "import random\n",
    "from numpy import array\n",
    "import math\n",
    "import cython\n",
    "import timeit\n",
    "from matplotlib.pyplot import scatter\n",
    "%matplotlib notebook"
   ]
  },
  {
   "cell_type": "code",
   "execution_count": 2,
   "metadata": {},
   "outputs": [],
   "source": [
    "def tanh(x, derivative=False):\n",
    "    if (derivative == True):\n",
    "        return (1 - (np.tanh(x) ** 2))\n",
    "    return np.tanh(x)\n",
    "\n",
    "def relu(x, derivative=False):\n",
    "    if (derivative == True):\n",
    "        return 1. * (x > 0)\n",
    "    return x * (x > 0)\n",
    "\n",
    "def sigmoid(x, derivative=False):\n",
    "    sigm = 1. / (1. + np.exp(-x))\n",
    "    if derivative:\n",
    "        return sigm * (1. - sigm)\n",
    "    return sigm\n",
    "    \n",
    "def activation_function(x, derivative=False):\n",
    "    return relu(x, derivative)"
   ]
  },
  {
   "cell_type": "code",
   "execution_count": 3,
   "metadata": {},
   "outputs": [],
   "source": [
    "class Autoencoder:\n",
    "    \n",
    "    def __init__(self, neuron_list):\n",
    "        self.layer_count = len(neuron_list)\n",
    "        self.neuron_list = neuron_list\n",
    "        self.weights = [abs(np.random.randn(y, x)) / 700 for x, y in zip(neuron_list[:-1], neuron_list[1:])] \n",
    "        self.biases = [np.zeros((y, 1), dtype=float) for y in neuron_list[1:]]\n",
    "        self.activations = [np.zeros((x)) for x in neuron_list]\n",
    "        self.deltas = [np.zeros((x)) for x in neuron_list]\n",
    "        self.learning_rate = 0.01\n",
    "        \n",
    "    def forward_propogation(self, x):\n",
    "        self.activations[0] = x      \n",
    "        for i in range(self.layer_count-1):\n",
    "            self.activations[i+1] = activation_function(np.dot(self.weights[i], self.activations[i])+self.biases[i])\n",
    "        return self.activations[-1]\n",
    "    \n",
    "    def encode(self, x):\n",
    "        self.activations[0] = x      \n",
    "        for i in range(self.layer_count-1):\n",
    "            self.activations[i+1] = activation_function(np.dot(self.weights[i], self.activations[i])+self.biases[i])\n",
    "        return self.activations[int(self.layer_count / 2)]\n",
    "    \n",
    "    def compute_deltas(self,output_labels):\n",
    "        # Compute last layers' activations\n",
    "        for i in range(self.neuron_list[-1]):\n",
    "            self.deltas[-1][i] = 2*activation_function(self.activations[-1][i],True)*(output_labels[i]-activation_function(self.activations[-1][i]))            \n",
    "        \n",
    "        # Compute all deltas in all layers\n",
    "        # l is layer starting from L-1, ending at 1\n",
    "        for l in range(self.layer_count-2, 0, -1):\n",
    "            # i is representing neuron count in the layer l\n",
    "            for i in range(len(self.activations[l])):\n",
    "                # j is representing next layer's neurons\n",
    "                for j in range(len(self.activations[l+1])):\n",
    "                    self.deltas[l][i] = self.deltas[l+1][j]*self.weights[l][j][i]*activation_function(self.activations[l][i],True)\n",
    "                 \n",
    "    def back_propogation(self, output_labels):\n",
    "        # Compute deltas\n",
    "        self.compute_deltas(output_labels)\n",
    "        # Update weights \n",
    "        # l is layer starting from L-1, ending at 1\n",
    "        for l in range(0,self.layer_count-1):\n",
    "            # i is representing neuron count in the layer l\n",
    "            for i in range(len(self.activations[l])):\n",
    "                # j is representing next layer's neurons\n",
    "                for j in range(len(self.activations[l+1])):\n",
    "                    self.weights[l][j][i] += self.learning_rate*self.deltas[l+1][j]*self.activations[l][i]\n",
    "                 \n",
    "    def train(self, x, y, epoch):\n",
    "        error = []\n",
    "        for e in range(epoch):\n",
    "            pass_error = 0\n",
    "            print(\"Epoch: \" + str(e))\n",
    "            for i in range(len(x)):\n",
    "                estimation = self.forward_propogation(x[i])\n",
    "                #print(\"Est: \" + str(np.transpose(estimation)))\n",
    "                #print(\"Out: \" + str(np.transpose(y[i])))\n",
    "                #print(\"\")\n",
    "                pass_error += 100 * np.sum( ((estimation - y[i])**2) / (y[i]**2) ) / len(estimation)\n",
    "                self.back_propogation(y[i])\n",
    "            error.append(pass_error / len(x))\n",
    "        print(\"Errors: \\n\" + str(error))\n",
    "        return error  \n"
   ]
  },
  {
   "cell_type": "code",
   "execution_count": 4,
   "metadata": {
    "scrolled": true
   },
   "outputs": [
    {
     "name": "stdout",
     "output_type": "stream",
     "text": [
      "Epoch: 0\n",
      "Epoch: 1\n",
      "Epoch: 2\n",
      "Epoch: 3\n",
      "Epoch: 4\n",
      "Epoch: 5\n",
      "Epoch: 6\n",
      "Epoch: 7\n",
      "Epoch: 8\n",
      "Epoch: 9\n",
      "Errors: \n",
      "[99.97966708300203, 99.3550378535406, 84.01483222091623, 18.277120035923257, 4.683397369133217, 5.0086759105751035, 5.019393728869783, 5.016470047383828, 5.01347493525183, 5.0108334271609]\n"
     ]
    },
    {
     "data": {
      "image/png": "[encoded data removed]",
      "text/plain": [
       "<Figure size 432x288 with 1 Axes>"
      ]
     },
     "metadata": {
      "needs_background": "light"
     },
     "output_type": "display_data"
    }
   ],
   "source": [
    "xx = np.array([8, 20])\n",
    "yy = np.array([3, 15])\n",
    "means = [xx.mean(), yy.mean()]  \n",
    "stds = [xx.std() / 3, yy.std() / 3]\n",
    "corr = 0.5         # correlation\n",
    "covs = [[stds[0]**2          , stds[0]*stds[1]*corr], \n",
    "        [stds[0]*stds[1]*corr,           stds[1]**2]] \n",
    "\n",
    "m = np.random.multivariate_normal(means, covs, 200).T\n",
    "\n",
    "xx = np.array([10, 50])\n",
    "yy = np.array([4, 30])\n",
    "means = [xx.mean(), yy.mean()]  \n",
    "stds = [xx.std() / 3, yy.std() / 3]\n",
    "corr = 0.7       # correlation\n",
    "covs = [[stds[0]**2          , stds[0]*stds[1]*corr], \n",
    "        [stds[0]*stds[1]*corr,           stds[1]**2]] \n",
    "\n",
    "m2 = np.random.multivariate_normal(means, covs, 200).T\n",
    "\n",
    "inp = []\n",
    "for i in range(200):\n",
    "    a1 =  [m2[0][i],  m[1][i]]\n",
    "    a2 =  [m[0][i],  m2[1][i]]\n",
    "    a3 = a1 + a2\n",
    "    a3 /= np.linalg.norm(a3)\n",
    "    inp.append(np.transpose([a3]))\n",
    "    \n",
    "np.set_printoptions(suppress=True)\n",
    "neuron_list = [4,2,4]\n",
    "nn = Autoencoder(neuron_list)\n",
    "err = nn.train(inp,inp, 10)\n",
    "plt.plot(err)\n",
    "plt.show()\n",
    "\n"
   ]
  },
  {
   "cell_type": "code",
   "execution_count": null,
   "metadata": {},
   "outputs": [],
   "source": []
  },
  {
   "cell_type": "code",
   "execution_count": null,
   "metadata": {},
   "outputs": [],
   "source": []
  }
 ],
 "metadata": {
  "kernelspec": {
   "display_name": "Python 3",
   "language": "python",
   "name": "python3"
  },
  "language_info": {
   "codemirror_mode": {
    "name": "ipython",
    "version": 3
   },
   "file_extension": ".py",
   "mimetype": "text/x-python",
   "name": "python",
   "nbconvert_exporter": "python",
   "pygments_lexer": "ipython3",
   "version": "3.7.0"
  }
 },
 "nbformat": 4,
 "nbformat_minor": 2
}
