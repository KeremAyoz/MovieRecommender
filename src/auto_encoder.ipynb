{
 "cells": [
  {
   "cell_type": "code",
   "execution_count": 94,
   "metadata": {},
   "outputs": [],
   "source": [
    "import numpy as np\n",
    "import matplotlib.pyplot as plt\n",
    "import csv\n",
    "import os\n",
    "import random\n",
    "from numpy import array"
   ]
  },
  {
   "cell_type": "code",
   "execution_count": 475,
   "metadata": {},
   "outputs": [],
   "source": [
    "def tanh(x, derivative=False):\n",
    "    if (derivative == True):\n",
    "        return (1 - (np.tanh(x) ** 2))\n",
    "    return np.tanh(x)\n",
    "\n",
    "def activation_function(x, derivative=False):\n",
    "    return tanh(x, derivative)"
   ]
  },
  {
   "cell_type": "code",
   "execution_count": 501,
   "metadata": {},
   "outputs": [],
   "source": [
    "class NeuralNetwork:\n",
    "    \n",
    "    def __init__(self, neuron_list):\n",
    "        self.layer_count = len(neuron_list)\n",
    "        self.neuron_list = neuron_list\n",
    "        self.biases = [np.random.randn(y, 1) for y in neuron_list[1:]]\n",
    "        self.weights = [np.random.randn(y, x) for x, y in zip(neuron_list[:-1], neuron_list[1:])]\n",
    "        #self.biases = [np.zeros((y, 1), dtype=float) for y in neuron_list[1:]]\n",
    "        #self.weights = [np.full((y, x),1,dtype=float) for x, y in zip(neuron_list[:-1], neuron_list[1:])]\n",
    "        self.activations = [np.zeros((x)) for x in neuron_list]\n",
    "        self.deltas = [np.zeros((x)) for x in neuron_list]\n",
    "        self.learning_rate = 1\n",
    "        \n",
    "    def forward_propogation(self, x):\n",
    "        self.activations[0] = x      \n",
    "        for i in range(self.layer_count-1):\n",
    "            self.activations[i+1] = activation_function(np.dot(self.weights[i], self.activations[i])+self.biases[i])\n",
    "        return self.activations[-1]\n",
    "    \n",
    "    def compute_deltas(self,output_labels):\n",
    "        # Compute last layers' activations\n",
    "        for i in range(self.neuron_list[-1]):\n",
    "            self.deltas[-1][i] = 2*activation_function(self.activations[-1][i],True)*(output_labels[i]-activation_function(self.activations[-1][i]))            \n",
    "        \n",
    "        # Compute all deltas in all layers\n",
    "        # l is layer starting from L-1, ending at 1\n",
    "        for l in range(self.layer_count-2, 0, -1):\n",
    "            # i is representing neuron count in the layer l\n",
    "            for i in range(len(self.activations[l])):\n",
    "                # j is representing next layer's neurons\n",
    "                for j in range(len(self.activations[l+1])):\n",
    "                    self.deltas[l][i] -= self.deltas[l+1][j]*self.weights[l][j][i]*activation_function(self.activations[l][i],True)\n",
    "                 \n",
    "    def back_propogation(self, output_labels):\n",
    "        # Compute deltas\n",
    "        self.compute_deltas(output_labels)\n",
    "        \n",
    "        # Update weights \n",
    "        # l is layer starting from L-1, ending at 1\n",
    "        for l in range(0,self.layer_count-1):\n",
    "            # i is representing neuron count in the layer l\n",
    "            for i in range(len(self.activations[l])):\n",
    "                # j is representing next layer's neurons\n",
    "                for j in range(len(self.activations[l+1])):\n",
    "                    self.weights[l][j][i] + self.learning_rate*self.deltas[l+1][j]*self.activations[l][i]\n",
    "                 \n",
    "                    \n",
    "                    \n",
    "                    \n",
    "                    "
   ]
  },
  {
   "cell_type": "code",
   "execution_count": 502,
   "metadata": {},
   "outputs": [],
   "source": [
    "neuron_list = [8,4,2,4,8]\n",
    "nn = NeuralNetwork(neuron_list)"
   ]
  },
  {
   "cell_type": "code",
   "execution_count": 504,
   "metadata": {},
   "outputs": [],
   "source": [
    "# Give input in nx1 dimension\n",
    "inp = np.transpose([[4,5,6,7,8,9,10,11]])\n",
    "nn.forward_propogation(inp)\n",
    "out = np.transpose([[4,5,6,7,8,9,10,11]])\n",
    "nn.compute_deltas(out)\n",
    "nn.back_propogation(out)"
   ]
  },
  {
   "cell_type": "code",
   "execution_count": null,
   "metadata": {},
   "outputs": [],
   "source": []
  },
  {
   "cell_type": "code",
   "execution_count": null,
   "metadata": {},
   "outputs": [],
   "source": []
  }
 ],
 "metadata": {
  "kernelspec": {
   "display_name": "Python 3",
   "language": "python",
   "name": "python3"
  },
  "language_info": {
   "codemirror_mode": {
    "name": "ipython",
    "version": 3
   },
   "file_extension": ".py",
   "mimetype": "text/x-python",
   "name": "python",
   "nbconvert_exporter": "python",
   "pygments_lexer": "ipython3",
   "version": "3.7.0"
  }
 },
 "nbformat": 4,
 "nbformat_minor": 2
}
