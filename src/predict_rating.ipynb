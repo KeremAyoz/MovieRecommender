{
 "cells": [
  {
   "cell_type": "code",
   "execution_count": 1,
   "metadata": {},
   "outputs": [
    {
     "name": "stdout",
     "output_type": "stream",
     "text": [
      "Importing Jupyter notebook from neural_network.ipynb\n"
     ]
    }
   ],
   "source": [
    "import numpy as np\n",
    "import matplotlib.pyplot as plt\n",
    "import csv\n",
    "import os\n",
    "import pickle\n",
    "import ast\n",
    "import pandas\n",
    "import json\n",
    "from numpy import array\n",
    "import timeit  \n",
    "import nbimporter\n",
    "import neural_network as nn\n",
    "np.set_printoptions(suppress=True)"
   ]
  },
  {
   "cell_type": "code",
   "execution_count": 2,
   "metadata": {},
   "outputs": [
    {
     "name": "stdout",
     "output_type": "stream",
     "text": [
      "(64,)\n"
     ]
    }
   ],
   "source": [
    "# Read user and movie features\n",
    "file = open(\"movie_features\", \"rb\")\n",
    "movie_features = pickle.load(file)\n",
    "print(np.shape(movie_features[0][1]))\n",
    "file = open(\"user_features\", \"rb\")\n",
    "user_features = pickle.load(file)"
   ]
  },
  {
   "cell_type": "code",
   "execution_count": 3,
   "metadata": {},
   "outputs": [],
   "source": [
    "# Read ratigns.csv to build labeled data\n",
    "file = open(\"ratings_updated_2\", \"rb\")\n",
    "ratings = pickle.load(file)"
   ]
  },
  {
   "cell_type": "code",
   "execution_count": 4,
   "metadata": {},
   "outputs": [
    {
     "data": {
      "text/plain": [
       "'\\ninput_data = []\\ninput_label = []\\nfor index, row in ratings.iterrows():\\n    uu = user_features[user_features[0] == row[\\'userId\\']][1]\\n    mm = movie_features[movie_features[0] == row[\\'movieId\\']][1]\\n    input_data.append(np.concatenate((uu, mm), axis=None))\\n    input_label.append(row[\\'rating\\'])\\n\\nfile = open(\"input_data\", \"wb\")\\npickle.dump(input_data, file)\\n\\nfile = open(\"input_label\", \"wb\")\\npickle.dump(input_label, file)\\n'"
      ]
     },
     "execution_count": 4,
     "metadata": {},
     "output_type": "execute_result"
    }
   ],
   "source": [
    "'''\n",
    "input_data = []\n",
    "input_label = []\n",
    "for index, row in ratings.iterrows():\n",
    "    uu = user_features[user_features[0] == row['userId']][1]\n",
    "    mm = movie_features[movie_features[0] == row['movieId']][1]\n",
    "    input_data.append(np.concatenate((uu, mm), axis=None))\n",
    "    input_label.append(row['rating'])\n",
    "\n",
    "file = open(\"input_data\", \"wb\")\n",
    "pickle.dump(input_data, file)\n",
    "\n",
    "file = open(\"input_label\", \"wb\")\n",
    "pickle.dump(input_label, file)\n",
    "'''"
   ]
  },
  {
   "cell_type": "code",
   "execution_count": 5,
   "metadata": {},
   "outputs": [],
   "source": [
    "file = open(\"input_data\", \"rb\")\n",
    "input_data = pickle.load(file)\n",
    "\n",
    "file = open(\"input_label\", \"rb\")\n",
    "input_label = pickle.load(file)"
   ]
  },
  {
   "cell_type": "code",
   "execution_count": 6,
   "metadata": {},
   "outputs": [
    {
     "name": "stdout",
     "output_type": "stream",
     "text": [
      "(412049, 189)\n",
      "(412049,)\n"
     ]
    }
   ],
   "source": [
    "print(np.shape(input_data))\n",
    "print(np.shape(input_label))"
   ]
  },
  {
   "cell_type": "code",
   "execution_count": null,
   "metadata": {
    "scrolled": false
   },
   "outputs": [
    {
     "name": "stdout",
     "output_type": "stream",
     "text": [
      "Epoch: 0\n",
      "Error: 49.24166908886476\n",
      "Epoch: 1\n",
      "Error: 48.969301906128024\n",
      "Epoch: 2\n",
      "Error: 48.969301906128024\n",
      "Epoch: 3\n",
      "Error: 48.969301906128024\n",
      "Epoch: 4\n",
      "Error: 48.969301906128024\n",
      "Epoch: 5\n",
      "Error: 48.969301906128024\n",
      "Epoch: 6\n"
     ]
    }
   ],
   "source": [
    "neural = nn.NeuralNetwork([189,189,90,1], 0.01, 800)\n",
    "\n",
    "inp = np.transpose([np.transpose(input_data)])\n",
    "label = np.transpose([[input_label]])\n",
    "\n",
    "err = neural.train(inp,label, 10)"
   ]
  },
  {
   "cell_type": "code",
   "execution_count": null,
   "metadata": {},
   "outputs": [],
   "source": [
    "plt.plot(err)\n",
    "plt.show()"
   ]
  }
 ],
 "metadata": {
  "kernelspec": {
   "display_name": "Python 3",
   "language": "python",
   "name": "python3"
  },
  "language_info": {
   "codemirror_mode": {
    "name": "ipython",
    "version": 3
   },
   "file_extension": ".py",
   "mimetype": "text/x-python",
   "name": "python",
   "nbconvert_exporter": "python",
   "pygments_lexer": "ipython3",
   "version": "3.7.0"
  }
 },
 "nbformat": 4,
 "nbformat_minor": 2
}
