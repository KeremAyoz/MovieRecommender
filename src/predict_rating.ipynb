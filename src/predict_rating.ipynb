{
 "cells": [
  {
   "cell_type": "code",
   "execution_count": 2,
   "metadata": {},
   "outputs": [
    {
     "name": "stdout",
     "output_type": "stream",
     "text": [
      "Importing Jupyter notebook from neural_network.ipynb\n"
     ]
    }
   ],
   "source": [
    "import numpy as np\n",
    "import matplotlib.pyplot as plt\n",
    "import csv\n",
    "import os\n",
    "import pickle\n",
    "import ast\n",
    "import pandas\n",
    "from numpy import array\n",
    "import nbimporter\n",
    "import neural_network as nn\n",
    "np.set_printoptions(suppress=True)"
   ]
  },
  {
   "cell_type": "code",
   "execution_count": 3,
   "metadata": {},
   "outputs": [],
   "source": [
    "def column(matrix, i):\n",
    "    return [row[i] for row in matrix]"
   ]
  },
  {
   "cell_type": "code",
   "execution_count": 4,
   "metadata": {},
   "outputs": [],
   "source": [
    "# Read user and movie features\n",
    "file = open(\"movie_features\", \"rb\")\n",
    "movie_features = pickle.load(file)\n",
    "\n",
    "file = open(\"user_features\", \"rb\")\n",
    "user_features = pickle.load(file)"
   ]
  },
  {
   "cell_type": "code",
   "execution_count": 4,
   "metadata": {},
   "outputs": [
    {
     "data": {
      "text/plain": [
       "'\\n# Read ratigns.csv to build labeled data\\nfile = open(\"ratings_updated_2\", \"rb\")\\nratings = pickle.load(file)\\n\\ninput_data = []\\ninput_label = []\\nfor index, row in ratings.iterrows():\\n    uu = user_features[column(user_features,0).index(row[\\'userId\\'])][1]\\n    mm = movie_features[column(movie_features,0).index(row[\\'movieId\\'])][1]\\n    input_data.append(np.concatenate((uu, mm), axis=None))\\n    input_label.append(row[\\'rating\\'])\\n\\nfile = open(\"input_data\", \"wb\")\\npickle.dump(input_data, file)\\n\\nfile = open(\"input_label\", \"wb\")\\npickle.dump(input_label, file)\\n'"
      ]
     },
     "execution_count": 4,
     "metadata": {},
     "output_type": "execute_result"
    }
   ],
   "source": [
    "'''\n",
    "# Read ratigns.csv to build labeled data\n",
    "file = open(\"ratings_updated_2\", \"rb\")\n",
    "ratings = pickle.load(file)\n",
    "\n",
    "input_data = []\n",
    "input_label = []\n",
    "for index, row in ratings.iterrows():\n",
    "    uu = user_features[column(user_features,0).index(row['userId'])][1]\n",
    "    mm = movie_features[column(movie_features,0).index(row['movieId'])][1]\n",
    "    input_data.append(np.concatenate((uu, mm), axis=None))\n",
    "    input_label.append(row['rating'])\n",
    "\n",
    "file = open(\"input_data\", \"wb\")\n",
    "pickle.dump(input_data, file)\n",
    "\n",
    "file = open(\"input_label\", \"wb\")\n",
    "pickle.dump(input_label, file)\n",
    "'''"
   ]
  },
  {
   "cell_type": "code",
   "execution_count": 5,
   "metadata": {},
   "outputs": [],
   "source": [
    "# Load input data and input label\n",
    "file = open(\"input_data\", \"rb\")\n",
    "input_data = pickle.load(file)\n",
    "\n",
    "# Add 1 to the input to use bias\n",
    "left = np.full((len(input_data),1), 1, dtype=float)\n",
    "input_data = np.hstack((left,input_data))\n",
    "\n",
    "file = open(\"input_label\", \"rb\")\n",
    "input_label = pickle.load(file)\n",
    "input_label = [x/5 for x in input_label]"
   ]
  },
  {
   "cell_type": "code",
   "execution_count": 6,
   "metadata": {},
   "outputs": [],
   "source": [
    "# Divide it for train and validation\n",
    "inp = np.asarray(input_data[:-4])\n",
    "inp = np.split(inp,5)\n",
    "\n",
    "label = np.asarray(input_label[:-4])\n",
    "label = np.split(label,5)"
   ]
  },
  {
   "cell_type": "code",
   "execution_count": null,
   "metadata": {
    "scrolled": false
   },
   "outputs": [],
   "source": [
    "# K-fold validation\n",
    "errTrain = []\n",
    "errTest = []\n",
    "\n",
    "for i in range(5):\n",
    "    print(\"Fold \" + str(i+1))\n",
    "\n",
    "    neural = nn.NeuralNetwork([140,200,160,120,80,40,1], 0.6, 500)\n",
    "    #neural = nn.NeuralNetwork([140,100,50,1], learning_rate=0.1, shrink_rate=10)\n",
    "\n",
    "    inpFold = np.vstack((inp[i%5],inp[(i+1)%5],inp[(i+2)%5],inp[(i+3)%5]))\n",
    "    inpFold = np.transpose([np.transpose(inpFold)]);\n",
    "\n",
    "    labelFold = np.hstack((label[i%5],label[(i+1)%5],label[(i+2)%5],label[(i+3)%5]))\n",
    "    labelFold = np.transpose([[labelFold]])\n",
    "\n",
    "    testInp = np.transpose([np.transpose(inp[(i+4)%5])])\n",
    "    testLabel = np.transpose([np.transpose(label[(i+4)%5])])\n",
    "    \n",
    "    print(\"Training start\")\n",
    "    errTrain.append(neural.train(inpFold,labelFold, 1))\n",
    "    print(\"Training end\")\n",
    "    print(\"Test error for fold \"+str(i+1))\n",
    "    errTest.append(neural.test(testInp, testLabel))\n",
    "    \n",
    "    \n",
    "    file = open(\"weights_fold\" + str(i), \"wb\")\n",
    "    pickle.dump(neural.weights, file)\n",
    "    print(\"\")"
   ]
  },
  {
   "cell_type": "code",
   "execution_count": 11,
   "metadata": {},
   "outputs": [
    {
     "data": {
      "image/png": "[encoded data removed]",
      "text/plain": [
       "<Figure size 432x288 with 1 Axes>"
      ]
     },
     "metadata": {
      "needs_background": "light"
     },
     "output_type": "display_data"
    }
   ],
   "source": [
    "plt.plot(errTrain, label=\"Training\")\n",
    "plt.plot(errTest, label=\"Test\")\n",
    "plt.title('Rating Predictor Neural Network')\n",
    "plt.xlabel('Fold')\n",
    "plt.ylabel('MSE percentage')\n",
    "plt.show()"
   ]
  },
  {
   "cell_type": "code",
   "execution_count": 23,
   "metadata": {
    "scrolled": true
   },
   "outputs": [
    {
     "name": "stdout",
     "output_type": "stream",
     "text": [
      "114382\n"
     ]
    }
   ],
   "source": [
    "### EXAMPLE RECOMMENDATION ###\n",
    "# Recommend movie to user 0 \n",
    "user_0_feature = user_features[10]\n",
    "\n",
    "# Get the movies that user 0 watched before\n",
    "file = open(\"ratings_updated_2\", \"rb\")\n",
    "ratings = pickle.load(file)\n",
    "\n",
    "# Setup the predictor\n",
    "predictor = nn.NeuralNetwork([140,200,160,120,80,40,1], 0.6, 500)\n",
    "file = open(\"weights_fold0\",\"rb\")\n",
    "weights_saved = pickle.load(file)\n",
    "predictor.weights = weights_saved\n",
    "\n",
    "# Predict rating for each movie\n",
    "estimated_ratings = []\n",
    "for mf in movie_features:\n",
    "    uu = user_0_feature[1]\n",
    "    input_data = np.concatenate((uu, mf[1]), axis=None)\n",
    "    input_data = np.insert(input_data,0,1)\n",
    "    inp = np.transpose([np.transpose(input_data)])\n",
    "    estimated_ratings.append(predictor.forward_propogation(inp))\n",
    "\n",
    "# Predicted movie's id\n",
    "recommended_movie_id = movie_features[estimated_ratings.index(max(estimated_ratings))][0]\n",
    "print(recommended_movie_id)"
   ]
  },
  {
   "cell_type": "code",
   "execution_count": null,
   "metadata": {},
   "outputs": [],
   "source": []
  }
 ],
 "metadata": {
  "kernelspec": {
   "display_name": "Python 3",
   "language": "python",
   "name": "python3"
  },
  "language_info": {
   "codemirror_mode": {
    "name": "ipython",
    "version": 3
   },
   "file_extension": ".py",
   "mimetype": "text/x-python",
   "name": "python",
   "nbconvert_exporter": "python",
   "pygments_lexer": "ipython3",
   "version": "3.7.0"
  }
 },
 "nbformat": 4,
 "nbformat_minor": 2
}
