{
 "cells": [
  {
   "cell_type": "code",
   "execution_count": null,
   "metadata": {},
   "outputs": [],
   "source": [
    "import numpy as np\n",
    "import matplotlib.pyplot as plt\n",
    "import csv\n",
    "import os\n",
    "import pickle\n",
    "import ast\n",
    "import pandas\n",
    "from numpy import array\n",
    "import nbimporter\n",
    "import neural_network as nn\n",
    "np.set_printoptions(suppress=True)"
   ]
  },
  {
   "cell_type": "code",
   "execution_count": null,
   "metadata": {},
   "outputs": [],
   "source": [
    "def column(matrix, i):\n",
    "    return [row[i] for row in matrix]"
   ]
  },
  {
   "cell_type": "code",
   "execution_count": null,
   "metadata": {},
   "outputs": [],
   "source": [
    "# Read user and movie features\n",
    "file = open(\"movie_features\", \"rb\")\n",
    "movie_features = pickle.load(file)\n",
    "\n",
    "file = open(\"user_features\", \"rb\")\n",
    "user_features = pickle.load(file)"
   ]
  },
  {
   "cell_type": "code",
   "execution_count": null,
   "metadata": {},
   "outputs": [],
   "source": [
    "'''\n",
    "# Read ratigns.csv to build labeled data\n",
    "file = open(\"ratings_updated_2\", \"rb\")\n",
    "ratings = pickle.load(file)\n",
    "\n",
    "input_data = []\n",
    "input_label = []\n",
    "for index, row in ratings.iterrows():\n",
    "    uu = user_features[column(user_features,0).index(row['userId'])][1]\n",
    "    mm = movie_features[column(movie_features,0).index(row['movieId'])][1]\n",
    "    input_data.append(np.concatenate((uu, mm), axis=None))\n",
    "    input_label.append(row['rating'])\n",
    "\n",
    "file = open(\"input_data\", \"wb\")\n",
    "pickle.dump(input_data, file)\n",
    "\n",
    "file = open(\"input_label\", \"wb\")\n",
    "pickle.dump(input_label, file)\n",
    "'''"
   ]
  },
  {
   "cell_type": "code",
   "execution_count": null,
   "metadata": {},
   "outputs": [],
   "source": [
    "# Load input data and input label\n",
    "file = open(\"input_data\", \"rb\")\n",
    "input_data = pickle.load(file)\n",
    "\n",
    "# Add 1 to the input to use bias\n",
    "left = np.full((len(input_data),1), 1, dtype=float)\n",
    "input_data = np.hstack((left,input_data))\n",
    "\n",
    "file = open(\"input_label\", \"rb\")\n",
    "input_label = pickle.load(file)\n",
    "input_label = [x/5 for x in input_label]"
   ]
  },
  {
   "cell_type": "code",
   "execution_count": null,
   "metadata": {},
   "outputs": [],
   "source": [
    "# Divide it for train and validation\n",
    "inp = np.asarray(input_data[:-4])\n",
    "inp = np.split(inp,5)\n",
    "\n",
    "label = np.asarray(input_label[:-4])\n",
    "label = np.split(label,5)"
   ]
  },
  {
   "cell_type": "code",
   "execution_count": null,
   "metadata": {
    "scrolled": false
   },
   "outputs": [],
   "source": [
    "# K-fold validation\n",
    "i=1\n",
    "print(\"Fold \" + str(i+1))\n",
    "\n",
    "neural = nn.NeuralNetwork([190,250,150,200,100,50,1], 0.008, 100)\n",
    "\n",
    "inpFold = np.vstack((inp[i%5],inp[(i+1)%5],inp[(i+2)%5],inp[(i+3)%5]))\n",
    "inpFold = np.transpose([np.transpose(inpFold)]);\n",
    "\n",
    "labelFold = np.hstack((label[i%5],label[(i+1)%5],label[(i+2)%5],label[(i+3)%5]))\n",
    "labelFold = np.transpose([[labelFold]])\n",
    "\n",
    "testInp = np.transpose([np.transpose(inp[(i+4)%5])])\n",
    "\n",
    "print(\"Training start\")\n",
    "errTrain = neural.train(inpFold,labelFold, 5)\n",
    "print(\"Training end\")\n",
    "print(\"Test error for fold \"+str(i+1))\n",
    "errTest = neural.test(testInp, testLabel)\n",
    "plt.plot(errTrain)\n",
    "plt.plot(errTest)\n",
    "plt.show()"
   ]
  }
 ],
 "metadata": {
  "kernelspec": {
   "display_name": "Python 3",
   "language": "python",
   "name": "python3"
  },
  "language_info": {
   "codemirror_mode": {
    "name": "ipython",
    "version": 3
   },
   "file_extension": ".py",
   "mimetype": "text/x-python",
   "name": "python",
   "nbconvert_exporter": "python",
   "pygments_lexer": "ipython3",
   "version": "3.7.0"
  }
 },
 "nbformat": 4,
 "nbformat_minor": 2
}
