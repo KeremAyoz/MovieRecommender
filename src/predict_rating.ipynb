{
 "cells": [
  {
   "cell_type": "code",
   "execution_count": 1,
   "metadata": {},
   "outputs": [
    {
     "name": "stdout",
     "output_type": "stream",
     "text": [
      "Importing Jupyter notebook from auto_encoder.ipynb\n"
     ]
    }
   ],
   "source": [
    "import numpy as np\n",
    "import matplotlib.pyplot as plt\n",
    "import csv\n",
    "import os\n",
    "import pickle\n",
    "import ast\n",
    "import pandas\n",
    "import json\n",
    "from numpy import array\n",
    "import timeit  \n",
    "import nbimporter\n",
    "import auto_encoder as aec\n",
    "np.set_printoptions(suppress=True)"
   ]
  },
  {
   "cell_type": "code",
   "execution_count": 2,
   "metadata": {},
   "outputs": [
    {
     "name": "stdout",
     "output_type": "stream",
     "text": [
      "(64,)\n"
     ]
    }
   ],
   "source": [
    "# Read user and movie features\n",
    "file = open(\"movie_features\", \"rb\")\n",
    "movie_features = pickle.load(file)\n",
    "print(np.shape(movie_features[0][1]))\n",
    "file = open(\"user_features\", \"rb\")\n",
    "user_features = pickle.load(file)"
   ]
  },
  {
   "cell_type": "code",
   "execution_count": 3,
   "metadata": {},
   "outputs": [],
   "source": [
    "# Read ratigns.csv to build labeled data\n",
    "file = open(\"ratings_updated_2\", \"rb\")\n",
    "ratings = pickle.load(file)"
   ]
  },
  {
   "cell_type": "code",
   "execution_count": 4,
   "metadata": {},
   "outputs": [
    {
     "name": "stderr",
     "output_type": "stream",
     "text": [
      "D:\\Programs\\Anaconda\\lib\\site-packages\\ipykernel_launcher.py:4: DeprecationWarning: elementwise == comparison failed; this will raise an error in the future.\n",
      "  after removing the cwd from sys.path.\n",
      "D:\\Programs\\Anaconda\\lib\\site-packages\\ipykernel_launcher.py:5: DeprecationWarning: elementwise == comparison failed; this will raise an error in the future.\n",
      "  \"\"\"\n"
     ]
    }
   ],
   "source": [
    "input_data = []\n",
    "input_label = []\n",
    "for index, row in ratings.iterrows():\n",
    "    uu = user_features[user_features[0] == row['userId']][1]\n",
    "    mm = movie_features[movie_features[0] == row['movieId']][1]\n",
    "    input_data.append(np.concatenate((uu, mm), axis=None))\n",
    "    input_label.append(row['rating'])"
   ]
  },
  {
   "cell_type": "code",
   "execution_count": 5,
   "metadata": {},
   "outputs": [
    {
     "name": "stdout",
     "output_type": "stream",
     "text": [
      "(412049, 189)\n",
      "(412049,)\n"
     ]
    }
   ],
   "source": [
    "print(np.shape(input_data))\n",
    "print(np.shape(input_label))"
   ]
  },
  {
   "cell_type": "code",
   "execution_count": null,
   "metadata": {},
   "outputs": [],
   "source": []
  }
 ],
 "metadata": {
  "kernelspec": {
   "display_name": "Python 3",
   "language": "python",
   "name": "python3"
  },
  "language_info": {
   "codemirror_mode": {
    "name": "ipython",
    "version": 3
   },
   "file_extension": ".py",
   "mimetype": "text/x-python",
   "name": "python",
   "nbconvert_exporter": "python",
   "pygments_lexer": "ipython3",
   "version": "3.7.0"
  }
 },
 "nbformat": 4,
 "nbformat_minor": 2
}
