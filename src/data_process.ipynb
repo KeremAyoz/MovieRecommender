{
 "cells": [
  {
   "cell_type": "code",
   "execution_count": 1,
   "metadata": {
    "scrolled": true
   },
   "outputs": [
    {
     "name": "stdout",
     "output_type": "stream",
     "text": [
      "Importing Jupyter notebook from auto_encoder.ipynb\n"
     ]
    }
   ],
   "source": [
    "import numpy as np\n",
    "import matplotlib.pyplot as plt\n",
    "import csv\n",
    "import os\n",
    "import pickle\n",
    "import ast\n",
    "import pandas\n",
    "from numpy import array  \n",
    "import nbimporter\n",
    "import auto_encoder as aec\n",
    "np.set_printoptions(suppress=True)"
   ]
  },
  {
   "cell_type": "code",
   "execution_count": 2,
   "metadata": {},
   "outputs": [],
   "source": [
    "def column(matrix, i):\n",
    "    return [row[i] for row in matrix]"
   ]
  },
  {
   "cell_type": "code",
   "execution_count": 3,
   "metadata": {
    "scrolled": true
   },
   "outputs": [
    {
     "data": {
      "text/plain": [
       "'\\nproject_root = os.path.dirname(os.path.abspath(\"\"))\\ndata_path = os.path.join(project_root, \"data\\\\ratings.csv\")\\nrating = pandas.read_csv(data_path)\\n\\nproject_root = os.path.dirname(os.path.abspath(\"\"))\\ndata_path = os.path.join(project_root, \"data\\\\links.csv\")\\nlinks = pandas.read_csv(data_path)\\n\\nproject_root = os.path.dirname(os.path.abspath(\"\"))\\ndata_path = os.path.join(project_root, \"data\\\\movies_metadata.csv\")\\nmovie_meta = pandas.read_csv(data_path)\\n\\njoined = links.set_index(\\'tmdbId\\').join(movie_meta.set_index(\\'id\\'))\\n\\nwriter = pandas.ExcelWriter(\\'linked_movieIds.xlsx\\')\\njoined.to_excel(writer,\\'Sheet1\\')\\nwriter.save()\\n'"
      ]
     },
     "execution_count": 3,
     "metadata": {},
     "output_type": "execute_result"
    }
   ],
   "source": [
    "# Linking Id's\n",
    "'''\n",
    "project_root = os.path.dirname(os.path.abspath(\"\"))\n",
    "data_path = os.path.join(project_root, \"data\\\\ratings.csv\")\n",
    "rating = pandas.read_csv(data_path)\n",
    "\n",
    "project_root = os.path.dirname(os.path.abspath(\"\"))\n",
    "data_path = os.path.join(project_root, \"data\\\\links.csv\")\n",
    "links = pandas.read_csv(data_path)\n",
    "\n",
    "project_root = os.path.dirname(os.path.abspath(\"\"))\n",
    "data_path = os.path.join(project_root, \"data\\\\movies_metadata.csv\")\n",
    "movie_meta = pandas.read_csv(data_path)\n",
    "\n",
    "joined = links.set_index('tmdbId').join(movie_meta.set_index('id'))\n",
    "\n",
    "writer = pandas.ExcelWriter('linked_movieIds.xlsx')\n",
    "joined.to_excel(writer,'Sheet1')\n",
    "writer.save()\n",
    "'''"
   ]
  },
  {
   "cell_type": "code",
   "execution_count": 4,
   "metadata": {},
   "outputs": [
    {
     "data": {
      "text/plain": [
       "'\\nproject_root = os.path.dirname(os.path.abspath(\"\"))\\ndata_path = os.path.join(project_root, \"data\\\\ratings.csv\")\\nrating = pandas.read_csv(data_path, engine=\\'python\\')\\n\\nproject_root = os.path.dirname(os.path.abspath(\"\"))\\ndata_path = os.path.join(project_root, \"data\\\\movie_votecount.csv\")\\nvote_count = pandas.read_csv(data_path)\\n\\nvotes = column(vote_count.values, 0)\\nratings_updated = rating.loc[rating[\"movieId\"].isin(votes)]\\n\\nproject_root = os.path.dirname(os.path.abspath(\"\"))\\ndata_path = os.path.join(project_root, \"data\\\\user_votecount.csv\")\\nuser_vote = pandas.read_csv(data_path)\\n\\nvotes = column(user_vote.values, 0)\\nratings_updated = ratings_updated.loc[ratings[\"userId\"].isin(votes)]\\n\\nfile = open(\"ratings_updated\", \"wb\")\\npickle.dump(ratings_updated, file)\\n'"
      ]
     },
     "execution_count": 4,
     "metadata": {},
     "output_type": "execute_result"
    }
   ],
   "source": [
    "# Removing less-voted movies & least frequent voters from ratings.csv\n",
    "'''\n",
    "project_root = os.path.dirname(os.path.abspath(\"\"))\n",
    "data_path = os.path.join(project_root, \"data\\\\ratings.csv\")\n",
    "rating = pandas.read_csv(data_path, engine='python')\n",
    "\n",
    "project_root = os.path.dirname(os.path.abspath(\"\"))\n",
    "data_path = os.path.join(project_root, \"data\\\\movie_votecount.csv\")\n",
    "vote_count = pandas.read_csv(data_path)\n",
    "\n",
    "votes = column(vote_count.values, 0)\n",
    "ratings_updated = rating.loc[rating[\"movieId\"].isin(votes)]\n",
    "\n",
    "project_root = os.path.dirname(os.path.abspath(\"\"))\n",
    "data_path = os.path.join(project_root, \"data\\\\user_votecount.csv\")\n",
    "user_vote = pandas.read_csv(data_path)\n",
    "\n",
    "votes = column(user_vote.values, 0)\n",
    "ratings_updated = ratings_updated.loc[ratings[\"userId\"].isin(votes)]\n",
    "\n",
    "file = open(\"ratings_updated\", \"wb\")\n",
    "pickle.dump(ratings_updated, file)\n",
    "'''"
   ]
  },
  {
   "cell_type": "code",
   "execution_count": 5,
   "metadata": {
    "scrolled": true
   },
   "outputs": [],
   "source": [
    "file = open(\"ratings_updated\", \"rb\")\n",
    "rating = pickle.load(file)"
   ]
  },
  {
   "cell_type": "code",
   "execution_count": 6,
   "metadata": {
    "scrolled": true
   },
   "outputs": [
    {
     "data": {
      "text/plain": [
       "'\\nproject_root = os.path.dirname(os.path.abspath(\"\"))\\ndata_path = os.path.join(project_root, \"data\\\\movie_votecount2.csv\")\\nmovie_vote = pandas.read_csv(data_path)\\nvotes = column(movie_vote.values, 0)\\nratings_updated = rating.loc[rating[\"movieId\"].isin(votes)]\\n\\nproject_root = os.path.dirname(os.path.abspath(\"\"))\\ndata_path = os.path.join(project_root, \"data\\\\user_votecount2.csv\")\\nuser_vote = pandas.read_csv(data_path)\\n\\nvotes = column(user_vote.values, 0)\\nratings_updated = ratings_updated.loc[rating[\"userId\"].isin(votes)]\\nfile = open(\"ratings_updated_2\", \"wb\")\\npickle.dump(ratings_updated, file)\\n'"
      ]
     },
     "execution_count": 6,
     "metadata": {},
     "output_type": "execute_result"
    }
   ],
   "source": [
    "# Removing less-voted movies & least frequent voters from ratings.csv\n",
    "'''\n",
    "project_root = os.path.dirname(os.path.abspath(\"\"))\n",
    "data_path = os.path.join(project_root, \"data\\\\movie_votecount2.csv\")\n",
    "movie_vote = pandas.read_csv(data_path)\n",
    "votes = column(movie_vote.values, 0)\n",
    "ratings_updated = rating.loc[rating[\"movieId\"].isin(votes)]\n",
    "\n",
    "project_root = os.path.dirname(os.path.abspath(\"\"))\n",
    "data_path = os.path.join(project_root, \"data\\\\user_votecount2.csv\")\n",
    "user_vote = pandas.read_csv(data_path)\n",
    "\n",
    "votes = column(user_vote.values, 0)\n",
    "ratings_updated = ratings_updated.loc[rating[\"userId\"].isin(votes)]\n",
    "file = open(\"ratings_updated_2\", \"wb\")\n",
    "pickle.dump(ratings_updated, file)\n",
    "'''"
   ]
  },
  {
   "cell_type": "code",
   "execution_count": 7,
   "metadata": {},
   "outputs": [],
   "source": [
    "file = open(\"ratings_updated_2\", \"rb\")\n",
    "ratings_updated = pickle.load(file)"
   ]
  },
  {
   "cell_type": "code",
   "execution_count": 8,
   "metadata": {},
   "outputs": [],
   "source": [
    "# Movie matrix build\n",
    "movies = ratings_updated[\"movieId\"]\n",
    "movies = set(movies)\n",
    "movies = sorted(movies, key=lambda x: int(x), reverse=False)"
   ]
  },
  {
   "cell_type": "code",
   "execution_count": 9,
   "metadata": {},
   "outputs": [],
   "source": [
    "# User matrix build\n",
    "users = ratings_updated[\"userId\"]\n",
    "users = set(users)\n",
    "users = sorted(users, key=lambda x: int(x), reverse=False)"
   ]
  },
  {
   "cell_type": "code",
   "execution_count": 10,
   "metadata": {},
   "outputs": [
    {
     "data": {
      "text/plain": [
       "'\\n# User-movie matrix build\\nuser_movie = np.zeros((len(users),len(movies)), dtype=float)\\n\\nproject_root = os.path.dirname(os.path.abspath(\"\"))\\ndata_path = os.path.join(project_root, \"data\\\\movies.csv\")\\nmovies_meta = pandas.read_csv(data_path, encoding = \"ISO-8859-1\")\\n\\n# Fill non-rated movies as the average rating of that movie\\nfor i in range(len(movies)):\\n    rating_of_i = (movies_meta.loc[movies_meta[\"movieId\"] == movies[i]])[\"vote_average\"].values[0]\\n    x = np.full((len(users),), rating_of_i / 2, dtype=float)\\n    user_movie[:,i] = x\\n\\nfor index, row in ratings_updated.iterrows():\\n    user_movie[users.index(row[\\'userId\\'])][movies.index(row[\\'movieId\\'])] = row[\\'rating\\']\\n    \\nprint(np.shape(user_movie))\\nfile = open(\"user_movie\", \"wb\")\\npickle.dump(user_movie, file)\\n'"
      ]
     },
     "execution_count": 10,
     "metadata": {},
     "output_type": "execute_result"
    }
   ],
   "source": [
    "'''\n",
    "# User-movie matrix build\n",
    "user_movie = np.zeros((len(users),len(movies)), dtype=float)\n",
    "\n",
    "project_root = os.path.dirname(os.path.abspath(\"\"))\n",
    "data_path = os.path.join(project_root, \"data\\\\movies.csv\")\n",
    "movies_meta = pandas.read_csv(data_path, encoding = \"ISO-8859-1\")\n",
    "\n",
    "# Fill non-rated movies as the average rating of that movie\n",
    "for i in range(len(movies)):\n",
    "    rating_of_i = (movies_meta.loc[movies_meta[\"movieId\"] == movies[i]])[\"vote_average\"].values[0]\n",
    "    x = np.full((len(users),), rating_of_i / 2, dtype=float)\n",
    "    user_movie[:,i] = x\n",
    "\n",
    "for index, row in ratings_updated.iterrows():\n",
    "    user_movie[users.index(row['userId'])][movies.index(row['movieId'])] = row['rating']\n",
    "    \n",
    "print(np.shape(user_movie))\n",
    "file = open(\"user_movie\", \"wb\")\n",
    "pickle.dump(user_movie, file)\n",
    "'''"
   ]
  },
  {
   "cell_type": "code",
   "execution_count": 11,
   "metadata": {},
   "outputs": [
    {
     "data": {
      "text/plain": [
       "(1000, 499)"
      ]
     },
     "execution_count": 11,
     "metadata": {},
     "output_type": "execute_result"
    }
   ],
   "source": [
    "# Load user-movie matrix\n",
    "file = open(\"user_movie\", \"rb\")\n",
    "user_movie = pickle.load(file)\n",
    "np.shape(user_movie)"
   ]
  },
  {
   "cell_type": "code",
   "execution_count": 12,
   "metadata": {
    "scrolled": true
   },
   "outputs": [
    {
     "name": "stdout",
     "output_type": "stream",
     "text": [
      "(1000, 499, 1)\n",
      "Epoch: 0\n",
      "Error: 76.20384565444428\n",
      "Epoch: 1\n",
      "Error: 45.32424963035593\n",
      "Epoch: 2\n",
      "Error: 29.8559134165281\n",
      "Epoch: 3\n",
      "Error: 22.89289455092436\n",
      "Epoch: 4\n",
      "Error: 20.478128840377\n",
      "Epoch: 5\n",
      "Error: 20.37436174333767\n"
     ]
    },
    {
     "data": {
      "image/png": "[encoded data removed]",
      "text/plain": [
       "<Figure size 432x288 with 1 Axes>"
      ]
     },
     "metadata": {
      "needs_background": "light"
     },
     "output_type": "display_data"
    },
    {
     "name": "stdout",
     "output_type": "stream",
     "text": [
      "[76.20384565444428, 45.32424963035593, 29.8559134165281, 22.89289455092436, 20.478128840377, 20.37436174333767]\n"
     ]
    }
   ],
   "source": [
    "# Train the Autoencoder to get user features\n",
    "neuron_list = [499,350,250,180,100,75,100,180,250,350,499]\n",
    "nn = aec.Autoencoder(neuron_list, 0.01, 300)\n",
    "inp = np.transpose([np.transpose(user_movie)])\n",
    "print(np.shape(inp))\n",
    "err = nn.train(inp,inp, 6)\n",
    "plt.plot(err)\n",
    "plt.title('Autoencoder Training')\n",
    "plt.xlabel('Epoch')\n",
    "plt.ylabel('MSE percentage')\n",
    "plt.show()\n",
    "print(err)"
   ]
  },
  {
   "cell_type": "code",
   "execution_count": 13,
   "metadata": {},
   "outputs": [],
   "source": [
    "# Extract user-features after training\n",
    "features = []\n",
    "for i in range(len(user_movie)):\n",
    "    encoded = nn.encode(inp[i])\n",
    "    features.append(encoded)\n",
    "features = array(features)"
   ]
  },
  {
   "cell_type": "code",
   "execution_count": 14,
   "metadata": {},
   "outputs": [
    {
     "data": {
      "text/plain": [
       "'\\nfor i in range(len(features[0])):\\n    mean_i = np.mean(column(features,i))\\n    std_i = np.std(column(features,i))\\n    for j in range(len(features)):\\n        features[j][i] -= mean_i\\n        features[j][i] /= std_i\\n'"
      ]
     },
     "execution_count": 14,
     "metadata": {},
     "output_type": "execute_result"
    }
   ],
   "source": [
    "'''\n",
    "for i in range(len(features[0])):\n",
    "    mean_i = np.mean(column(features,i))\n",
    "    std_i = np.std(column(features,i))\n",
    "    for j in range(len(features)):\n",
    "        features[j][i] -= mean_i\n",
    "        features[j][i] /= std_i\n",
    "'''"
   ]
  },
  {
   "cell_type": "code",
   "execution_count": 15,
   "metadata": {},
   "outputs": [],
   "source": [
    "user_features = []\n",
    "for i in range(len(users)):\n",
    "    user_features.append([users[i], features[i]])"
   ]
  },
  {
   "cell_type": "code",
   "execution_count": 16,
   "metadata": {},
   "outputs": [],
   "source": [
    "file = open(\"user_features\", \"wb\")\n",
    "pickle.dump(user_features, file)"
   ]
  }
 ],
 "metadata": {
  "kernelspec": {
   "display_name": "Python 3",
   "language": "python",
   "name": "python3"
  },
  "language_info": {
   "codemirror_mode": {
    "name": "ipython",
    "version": 3
   },
   "file_extension": ".py",
   "mimetype": "text/x-python",
   "name": "python",
   "nbconvert_exporter": "python",
   "pygments_lexer": "ipython3",
   "version": "3.7.0"
  }
 },
 "nbformat": 4,
 "nbformat_minor": 2
}
