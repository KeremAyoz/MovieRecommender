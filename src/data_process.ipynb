{
 "cells": [
  {
   "cell_type": "code",
   "execution_count": 1,
   "metadata": {
    "scrolled": true
   },
   "outputs": [
    {
     "name": "stdout",
     "output_type": "stream",
     "text": [
      "Importing Jupyter notebook from auto_encoder.ipynb\n"
     ]
    }
   ],
   "source": [
    "import numpy as np\n",
    "import matplotlib.pyplot as plt\n",
    "import csv\n",
    "import os\n",
    "import pickle\n",
    "import ast\n",
    "import pandas\n",
    "import json\n",
    "from numpy import array\n",
    "import timeit  \n",
    "import nbimporter\n",
    "import auto_encoder as aec\n",
    "np.set_printoptions(suppress=True)"
   ]
  },
  {
   "cell_type": "code",
   "execution_count": null,
   "metadata": {},
   "outputs": [],
   "source": [
    "def column(matrix, i):\n",
    "    return [row[i] for row in matrix]"
   ]
  },
  {
   "cell_type": "code",
   "execution_count": null,
   "metadata": {
    "scrolled": true
   },
   "outputs": [],
   "source": [
    "# Linking Id's\n",
    "'''\n",
    "project_root = os.path.dirname(os.path.abspath(\"\"))\n",
    "data_path = os.path.join(project_root, \"data\\\\ratings.csv\")\n",
    "rating = pandas.read_csv(data_path)\n",
    "\n",
    "project_root = os.path.dirname(os.path.abspath(\"\"))\n",
    "data_path = os.path.join(project_root, \"data\\\\links.csv\")\n",
    "links = pandas.read_csv(data_path)\n",
    "\n",
    "project_root = os.path.dirname(os.path.abspath(\"\"))\n",
    "data_path = os.path.join(project_root, \"data\\\\movies_metadata.csv\")\n",
    "movie_meta = pandas.read_csv(data_path)\n",
    "\n",
    "joined = links.set_index('tmdbId').join(movie_meta.set_index('id'))\n",
    "\n",
    "writer = pandas.ExcelWriter('output.xlsx')\n",
    "joined.to_excel(writer,'Sheet1')\n",
    "writer.save()\n",
    "'''\n",
    "x = 3"
   ]
  },
  {
   "cell_type": "code",
   "execution_count": null,
   "metadata": {},
   "outputs": [],
   "source": [
    "# Cleaning less-voted movies from ratings.csv\n",
    "'''\n",
    "project_root = os.path.dirname(os.path.abspath(\"\"))\n",
    "data_path = os.path.join(project_root, \"data\\\\ratings.csv\")\n",
    "rating = pandas.read_csv(data_path, engine='python')\n",
    "\n",
    "project_root = os.path.dirname(os.path.abspath(\"\"))\n",
    "data_path = os.path.join(project_root, \"data\\\\movie_votecount.csv\")\n",
    "vote_count = pandas.read_csv(data_path)\n",
    "\n",
    "votes = column(vote_count.values, 0)\n",
    "ratings_updated = rating.loc[rating[\"movieId\"].isin(votes)]\n",
    "\n",
    "file = open(\"ratings_updated\", \"wb\")\n",
    "pickle.dump(ratings_updated, file)\n",
    "'''"
   ]
  },
  {
   "cell_type": "code",
   "execution_count": null,
   "metadata": {},
   "outputs": [],
   "source": [
    "# Cleaning less-voted movies from ratings.csv\n",
    "'''\n",
    "ratings2 = ratings.groupby(\"userId\").count()\n",
    "ratings2.sort_values(\"movieId\", ascending=False)\n",
    "writer = pandas.ExcelWriter('user_votecount.xlsx')\n",
    "ratings2.to_excel(writer,'Sheet1')\n",
    "writer.save()\n",
    "\n",
    "project_root = os.path.dirname(os.path.abspath(\"\"))\n",
    "data_path = os.path.join(project_root, \"data\\\\user_votecount.csv\")\n",
    "user_vote = pandas.read_csv(data_path)\n",
    "\n",
    "votes = column(user_vote.values, 0)\n",
    "ratings_updated = ratings.loc[ratings[\"userId\"].isin(votes)]\n",
    "'''"
   ]
  },
  {
   "cell_type": "code",
   "execution_count": null,
   "metadata": {
    "scrolled": true
   },
   "outputs": [],
   "source": [
    "file = open(\"ratings_updated\", \"rb\")\n",
    "rating = pickle.load(file)\n",
    "rating"
   ]
  },
  {
   "cell_type": "code",
   "execution_count": null,
   "metadata": {
    "scrolled": true
   },
   "outputs": [],
   "source": [
    "project_root = os.path.dirname(os.path.abspath(\"\"))\n",
    "data_path = os.path.join(project_root, \"data\\\\movie_votecount2.csv\")\n",
    "movie_vote = pandas.read_csv(data_path)\n",
    "votes = column(movie_vote.values, 0)\n",
    "ratings_updated = rating.loc[rating[\"movieId\"].isin(votes)]\n",
    "\n",
    "project_root = os.path.dirname(os.path.abspath(\"\"))\n",
    "data_path = os.path.join(project_root, \"data\\\\user_votecount2.csv\")\n",
    "user_vote = pandas.read_csv(data_path)\n",
    "\n",
    "votes = column(user_vote.values, 0)\n",
    "ratings_updated = ratings_updated.loc[rating[\"userId\"].isin(votes)]\n",
    "file = open(\"ratings_updated_2\", \"wb\")\n",
    "pickle.dump(ratings_updated, file)"
   ]
  },
  {
   "cell_type": "code",
   "execution_count": null,
   "metadata": {},
   "outputs": [],
   "source": [
    "# Movie matrix build\n",
    "movies = ratings_updated[\"movieId\"]\n",
    "movies = set(movies)\n",
    "movies = sorted(movies, key=lambda x: int(x), reverse=False)"
   ]
  },
  {
   "cell_type": "code",
   "execution_count": null,
   "metadata": {},
   "outputs": [],
   "source": [
    "# User matrix build\n",
    "users = ratings_updated[\"userId\"]\n",
    "users = set(users)\n",
    "users = sorted(users, key=lambda x: int(x), reverse=False)"
   ]
  },
  {
   "cell_type": "code",
   "execution_count": null,
   "metadata": {},
   "outputs": [],
   "source": [
    "# User-movie matrix build\n",
    "user_movie = np.zeros((len(users),len(movies)), dtype=float)\n",
    "\n",
    "project_root = os.path.dirname(os.path.abspath(\"\"))\n",
    "data_path = os.path.join(project_root, \"data\\\\movies.csv\")\n",
    "movies_meta = pandas.read_csv(data_path, encoding = \"ISO-8859-1\")"
   ]
  },
  {
   "cell_type": "code",
   "execution_count": null,
   "metadata": {},
   "outputs": [],
   "source": [
    "for i in range(len(movies)):\n",
    "    rating_of_i = (movies_meta.loc[movies_meta[\"movieId\"] == movies[i]])[\"vote_average\"].values[0]\n",
    "    x = np.full((len(users),), rating_of_i / 2, dtype=float)\n",
    "    user_movie[:,i] = x\n",
    "\n",
    "for index, row in ratings_updated.iterrows():\n",
    "    user_movie[users.index(row['userId'])][movies.index(row['movieId'])] = row['rating']\n",
    "    \n",
    "print(np.shape(user_movie))\n",
    "file = open(\"user_movie\", \"wb\")\n",
    "pickle.dump(user_movie, file)"
   ]
  },
  {
   "cell_type": "code",
   "execution_count": 2,
   "metadata": {},
   "outputs": [],
   "source": [
    "file = open(\"user_movie\", \"rb\")\n",
    "user_movie = pickle.load(file)"
   ]
  },
  {
   "cell_type": "code",
   "execution_count": null,
   "metadata": {},
   "outputs": [],
   "source": [
    "neuron_list = [499,250,125,250,499]\n",
    "nn = aec.Autoencoder(neuron_list)\n",
    "inp = np.transpose([np.transpose(user_movie)])\n",
    "\n",
    "# Load trained-weights\n",
    "file = open(\"epoch10_weights\", \"rb\")\n",
    "weights = pickle.load(file)\n",
    "nn.weights = weights\n",
    "\n",
    "features = []\n",
    "for i in range(len(user_movie)):\n",
    "    encoded = nn.encode(inp[i])\n",
    "    features.append(encoded)\n",
    "\n",
    "user_features = []\n",
    "for i in range(len(users)):\n",
    "    user_features.append([users[i], features[i]])\n",
    "file = open(\"user_features\", \"wb\")\n",
    "pickle.dump(user_features, file)"
   ]
  },
  {
   "cell_type": "code",
   "execution_count": 12,
   "metadata": {
    "scrolled": true
   },
   "outputs": [
    {
     "name": "stdout",
     "output_type": "stream",
     "text": [
      "(1000, 499, 1)\n",
      "Epoch: 0\n",
      "Error: 53.76288504661971\n",
      "Epoch: 1\n",
      "Error: 61.115320485662764\n",
      "Epoch: 2\n",
      "Error: 61.11532032723986\n",
      "Epoch: 3\n",
      "Error: 61.11532016881683\n",
      "Epoch: 4\n",
      "Error: 61.11532001039381\n",
      "Epoch: 5\n",
      "Error: 61.115319851970874\n",
      "Epoch: 6\n",
      "Error: 61.11531969354789\n",
      "Epoch: 7\n",
      "Error: 61.11531953512505\n",
      "Epoch: 8\n",
      "Error: 61.115319376702026\n",
      "Epoch: 9\n",
      "Error: 61.11531921827915\n"
     ]
    },
    {
     "data": {
      "image/png": "[encoded data removed]",
      "text/plain": [
       "<Figure size 432x288 with 1 Axes>"
      ]
     },
     "metadata": {
      "needs_background": "light"
     },
     "output_type": "display_data"
    },
    {
     "name": "stdout",
     "output_type": "stream",
     "text": [
      "[53.76288504661971, 61.115320485662764, 61.11532032723986, 61.11532016881683, 61.11532001039381, 61.115319851970874, 61.11531969354789, 61.11531953512505, 61.115319376702026, 61.11531921827915]\n"
     ]
    }
   ],
   "source": [
    "neuron_list = [499,250,125,250,499]\n",
    "nn = aec.Autoencoder(neuron_list, 0.002, 300)\n",
    "inp = np.transpose([np.transpose(user_movie)])\n",
    "print(np.shape(inp))\n",
    "err = nn.train(inp,inp, 10)\n",
    "plt.plot(err)\n",
    "plt.show()\n",
    "print(err)"
   ]
  },
  {
   "cell_type": "code",
   "execution_count": null,
   "metadata": {},
   "outputs": [],
   "source": [
    "file = open(\"epoch10_weights\", \"wb\")\n",
    "pickle.dump(nn.weights, file)"
   ]
  },
  {
   "cell_type": "code",
   "execution_count": null,
   "metadata": {},
   "outputs": [],
   "source": [
    "file = open(\"epoch10_autoencoder\", \"wb\")\n",
    "pickle.dump(nn, file)"
   ]
  },
  {
   "cell_type": "code",
   "execution_count": null,
   "metadata": {},
   "outputs": [],
   "source": [
    "file = open(\"error_epoch_10\", \"rb\")\n",
    "error = pickle.load(file)"
   ]
  },
  {
   "cell_type": "code",
   "execution_count": null,
   "metadata": {},
   "outputs": [],
   "source": [
    "error = [float(y) for x in error for y in x]"
   ]
  },
  {
   "cell_type": "code",
   "execution_count": null,
   "metadata": {},
   "outputs": [],
   "source": [
    "error = np.reshape(error, (10,1000))"
   ]
  },
  {
   "cell_type": "code",
   "execution_count": null,
   "metadata": {},
   "outputs": [],
   "source": [
    "for i in range(len(error)):\n",
    "    print(\"Epoch \" + str(i+1) + \" error: \" +  str(np.mean(error[i])))"
   ]
  }
 ],
 "metadata": {
  "kernelspec": {
   "display_name": "Python 3",
   "language": "python",
   "name": "python3"
  },
  "language_info": {
   "codemirror_mode": {
    "name": "ipython",
    "version": 3
   },
   "file_extension": ".py",
   "mimetype": "text/x-python",
   "name": "python",
   "nbconvert_exporter": "python",
   "pygments_lexer": "ipython3",
   "version": "3.7.0"
  }
 },
 "nbformat": 4,
 "nbformat_minor": 2
}
