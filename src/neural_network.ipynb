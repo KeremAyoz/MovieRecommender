{
 "cells": [
  {
   "cell_type": "code",
   "execution_count": 1,
   "metadata": {},
   "outputs": [],
   "source": [
    "import numpy as np\n",
    "import matplotlib.pyplot as plt\n",
    "import csv\n",
    "import os\n",
    "import random\n",
    "from numpy import array\n",
    "import math\n",
    "import cython\n",
    "from matplotlib.pyplot import scatter\n",
    "%matplotlib notebook"
   ]
  },
  {
   "cell_type": "code",
   "execution_count": 2,
   "metadata": {},
   "outputs": [],
   "source": [
    "def tanh(x, derivative=False):\n",
    "    if (derivative == True):\n",
    "        return (1 - (np.tanh(x) ** 2))\n",
    "    return np.tanh(x)\n",
    "\n",
    "def relu(x, derivative=False):\n",
    "    if (derivative == True):\n",
    "        return 1. * (x > 0)\n",
    "    return x * (x > 0)\n",
    "\n",
    "def sigmoid(x, derivative=False):\n",
    "    sigm = 1. / (1. + np.exp(-x))\n",
    "    if derivative:\n",
    "        return sigm * (1. - sigm)\n",
    "    return sigm\n",
    "    \n",
    "def activation_function(x, derivative=False):\n",
    "    return tanh(x, derivative)"
   ]
  },
  {
   "cell_type": "code",
   "execution_count": 3,
   "metadata": {},
   "outputs": [],
   "source": [
    "class NeuralNetwork:\n",
    "    \n",
    "    def __init__(self, neuron_list, learning_rate, shrink_rate):\n",
    "        self.layer_count = len(neuron_list)\n",
    "        self.neuron_list = neuron_list\n",
    "        self.biases = [np.random.randn(y, 1) / shrink_rate for y in neuron_list[1:]]\n",
    "        self.weights = [abs(np.random.randn(y, x)) / shrink_rate for x, y in zip(neuron_list[:-1], neuron_list[1:])]\n",
    "        self.activations = [np.zeros((x,1)) for x in neuron_list]\n",
    "        self.deltas = [np.zeros((x,1)) for x in neuron_list]\n",
    "        self.learning_rate = learning_rate\n",
    "        \n",
    "    def forward_propogation(self, x):\n",
    "        self.activations[0] = x      \n",
    "        for i in range(self.layer_count-1):\n",
    "            self.activations[i+1] = activation_function(np.dot(self.weights[i], self.activations[i])+self.biases[i])\n",
    "        return self.activations[-1]\n",
    "    \n",
    "    def compute_deltas(self,output_labels):\n",
    "        # Compute last layers' activations\n",
    "        for i in range(self.neuron_list[-1]):\n",
    "            self.deltas[-1][i] = 2*activation_function(self.activations[-1][i],True)*(output_labels[i]-activation_function(self.activations[-1][i]))            \n",
    "        \n",
    "        # Compute all deltas in all layers\n",
    "        for l in range(self.layer_count-2, 0, -1):\n",
    "            np.dot(np.dot(np.transpose(self.weights[l]),self.deltas[l+1]), np.transpose(activation_function(np.dot(self.weights[l-1], self.activations[l-1]), True)))\n",
    "            \n",
    "    def back_propogation(self, output_labels):\n",
    "        # Compute deltas\n",
    "        self.compute_deltas(output_labels)\n",
    "        # Update weights \n",
    "        for l in range(0,self.layer_count-1):\n",
    "            self.weights[l] += self.learning_rate * np.dot(self.deltas[l+1], np.transpose(self.activations[l]))\n",
    "\n",
    "                 \n",
    "    def train(self, x, y, epoch):\n",
    "        error = []\n",
    "        for e in range(epoch):\n",
    "            pass_error = 0\n",
    "            print(\"Epoch: \" + str(e))\n",
    "            for i in range(len(x)):\n",
    "                estimation = self.forward_propogation(x[i])\n",
    "                #print(\"Est: \" + str(np.transpose(estimation)))\n",
    "                #print(\"Out: \" + str(np.transpose(y[i])))\n",
    "                #print(\"\")\n",
    "                pass_error += 100 * np.sum( ((estimation - y[i])**2) / (y[i]**2) ) / len(estimation)\n",
    "                self.back_propogation(y[i])\n",
    "            error.append(pass_error / len(x))\n",
    "            print(\"Error: \" + str(pass_error/ len(x)))\n",
    "        return error          "
   ]
  }
 ],
 "metadata": {
  "kernelspec": {
   "display_name": "Python 3",
   "language": "python",
   "name": "python3"
  },
  "language_info": {
   "codemirror_mode": {
    "name": "ipython",
    "version": 3
   },
   "file_extension": ".py",
   "mimetype": "text/x-python",
   "name": "python",
   "nbconvert_exporter": "python",
   "pygments_lexer": "ipython3",
   "version": "3.7.0"
  }
 },
 "nbformat": 4,
 "nbformat_minor": 2
}
